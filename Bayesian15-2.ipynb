{
 "cells": [
  {
   "cell_type": "code",
   "execution_count": 1,
   "metadata": {},
   "outputs": [],
   "source": [
    "import tensorflow as tf\n",
    "from tensorflow.keras.models import Sequential\n",
    "from tensorflow.keras.layers import Conv2D, MaxPooling2D, Flatten, Dense, Dropout\n",
    "import tensorflow_probability as tfp\n",
    "# from google.colab import drive\n",
    "from tensorflow.keras.layers import LeakyReLU\n",
    "from tensorflow.keras.losses import CategoricalCrossentropy\n",
    "from tensorflow.keras.utils import to_categorical\n",
    "import PIL.Image\n",
    "import os\n",
    "import numpy as np\n",
    "from sklearn.model_selection import train_test_split\n",
    "from tensorflow.keras.preprocessing.image import ImageDataGenerator, load_img, img_to_array"
   ]
  },
  {
   "cell_type": "code",
   "execution_count": 2,
   "metadata": {
    "id": "Z4I9eqDMr83l"
   },
   "outputs": [],
   "source": [
    "tfpl = tfp.layers\n",
    "tfd = tfp.distributions"
   ]
  },
  {
   "cell_type": "code",
   "execution_count": 3,
   "metadata": {
    "id": "2-CHxQKJlkzA"
   },
   "outputs": [
    {
     "ename": "NameError",
     "evalue": "name 'train_files' is not defined",
     "output_type": "error",
     "traceback": [
      "\u001b[1;31m---------------------------------------------------------------------------\u001b[0m",
      "\u001b[1;31mNameError\u001b[0m                                 Traceback (most recent call last)",
      "Cell \u001b[1;32mIn[3], line 30\u001b[0m\n\u001b[0;32m     27\u001b[0m             \u001b[38;5;28;01myield\u001b[39;00m np\u001b[38;5;241m.\u001b[39marray(batch_images), np\u001b[38;5;241m.\u001b[39marray(batch_labels)\n\u001b[0;32m     29\u001b[0m \u001b[38;5;66;03m# Create data generators\u001b[39;00m\n\u001b[1;32m---> 30\u001b[0m train_generator \u001b[38;5;241m=\u001b[39m custom_data_generator(train_files, train_labels, batch_size)\n\u001b[0;32m     31\u001b[0m validation_generator \u001b[38;5;241m=\u001b[39m custom_data_generator(val_files, val_labels, batch_size)\n\u001b[0;32m     32\u001b[0m test_generator \u001b[38;5;241m=\u001b[39m custom_data_generator(test_files, test_labels, batch_size)\n",
      "\u001b[1;31mNameError\u001b[0m: name 'train_files' is not defined"
     ]
    }
   ],
   "source": [
    "data_dir = 'formatted_split'\n",
    "img_height, img_width = 256, 256\n",
    "batch_size = 64\n",
    "\n",
    "from keras.utils import to_categorical\n",
    "from sklearn.preprocessing import LabelEncoder\n",
    "\n",
    "# Convert string labels to integers\n",
    "le = LabelEncoder()\n",
    "\n",
    "def custom_data_generator(file_paths, labels, batch_size):\n",
    "    num_samples = len(file_paths)\n",
    "    while True:\n",
    "        indices = np.arange(num_samples)\n",
    "        np.random.shuffle(indices)\n",
    "        for i in range(0, num_samples, batch_size):\n",
    "            batch_indices = indices[i : min(i + batch_size, num_samples)]\n",
    "            batch_file_paths = [file_paths[j] for j in batch_indices]\n",
    "            batch_labels = [labels[j] for j in batch_indices]\n",
    "\n",
    "            # Load and preprocess the batch of images\n",
    "            batch_images = [img_to_array(load_img(file, target_size=(img_height, img_width))) for file in batch_file_paths]\n",
    "            batch_images = np.array(batch_images) / 255.0  # Properly rescale to [0, 1]\n",
    "            batch_labels = le.transform(batch_labels)\n",
    "            batch_labels = to_categorical(batch_labels, num_classes=num_classes)  # One-hot encode the labels\n",
    "\n",
    "            yield np.array(batch_images), np.array(batch_labels)\n",
    "\n",
    "# Create data generators\n",
    "train_generator = custom_data_generator(train_files, train_labels, batch_size)\n",
    "validation_generator = custom_data_generator(val_files, val_labels, batch_size)\n",
    "test_generator = custom_data_generator(test_files, test_labels, batch_size)\n"
   ]
  },
  {
   "cell_type": "code",
   "execution_count": null,
   "metadata": {},
   "outputs": [],
   "source": [
    "\n",
    "num_train_images = len(train_files)\n",
    "num_validation_images = len(val_files)\n",
    "num_test_images = len(test_files)\n",
    "\n",
    "print(f\"Number of training images: {num_train_images}\")\n",
    "print(f\"Number of validation images: {num_validation_images}\")\n",
    "print(f\"Number of test images: {num_test_images}\")\n"
   ]
  },
  {
   "cell_type": "code",
   "execution_count": 5,
   "metadata": {
    "id": "rExC6HLhsCvH"
   },
   "outputs": [
    {
     "name": "stderr",
     "output_type": "stream",
     "text": [
      "C:\\Users\\Public\\anaconda\\Lib\\site-packages\\tensorflow_probability\\python\\layers\\util.py:98: UserWarning: `layer.add_variable` is deprecated and will be removed in a future version. Please use the `layer.add_weight()` method instead.\n",
      "  loc = add_variable_fn(\n",
      "C:\\Users\\Public\\anaconda\\Lib\\site-packages\\tensorflow_probability\\python\\layers\\util.py:108: UserWarning: `layer.add_variable` is deprecated and will be removed in a future version. Please use the `layer.add_weight()` method instead.\n",
      "  untransformed_scale = add_variable_fn(\n"
     ]
    },
    {
     "ename": "NameError",
     "evalue": "Exception encountered when calling layer \"conv2d_reparameterization\" (type Conv2DReparameterization).\n\nname 'num_train_images' is not defined\n\nCall arguments received by layer \"conv2d_reparameterization\" (type Conv2DReparameterization):\n  • inputs=tf.Tensor(shape=(None, 255, 255, 3), dtype=float32)",
     "output_type": "error",
     "traceback": [
      "\u001b[1;31m---------------------------------------------------------------------------\u001b[0m",
      "\u001b[1;31mNameError\u001b[0m                                 Traceback (most recent call last)",
      "Cell \u001b[1;32mIn[5], line 5\u001b[0m\n\u001b[0;32m      2\u001b[0m divergence_fn \u001b[38;5;241m=\u001b[39m \u001b[38;5;28;01mlambda\u001b[39;00m q, p, _: tfd\u001b[38;5;241m.\u001b[39mkl_divergence(q, p) \u001b[38;5;241m/\u001b[39m num_train_images\n\u001b[0;32m      4\u001b[0m \u001b[38;5;66;03m# Build the Bayesian CNN model\u001b[39;00m\n\u001b[1;32m----> 5\u001b[0m model_bayes \u001b[38;5;241m=\u001b[39m Sequential([\n\u001b[0;32m      6\u001b[0m     tfpl\u001b[38;5;241m.\u001b[39mConvolution2DReparameterization(input_shape\u001b[38;5;241m=\u001b[39m(\u001b[38;5;241m255\u001b[39m,\u001b[38;5;241m255\u001b[39m, \u001b[38;5;241m3\u001b[39m),\n\u001b[0;32m      7\u001b[0m                                           filters\u001b[38;5;241m=\u001b[39m\u001b[38;5;241m8\u001b[39m, kernel_size\u001b[38;5;241m=\u001b[39m\u001b[38;5;241m16\u001b[39m, activation\u001b[38;5;241m=\u001b[39m\u001b[38;5;124m'\u001b[39m\u001b[38;5;124mrelu\u001b[39m\u001b[38;5;124m'\u001b[39m,\n\u001b[0;32m      8\u001b[0m                                           kernel_prior_fn\u001b[38;5;241m=\u001b[39mtfpl\u001b[38;5;241m.\u001b[39mdefault_multivariate_normal_fn,\n\u001b[0;32m      9\u001b[0m                                           kernel_posterior_fn\u001b[38;5;241m=\u001b[39mtfpl\u001b[38;5;241m.\u001b[39mdefault_mean_field_normal_fn(is_singular\u001b[38;5;241m=\u001b[39m\u001b[38;5;28;01mFalse\u001b[39;00m),\n\u001b[0;32m     10\u001b[0m                                           kernel_divergence_fn\u001b[38;5;241m=\u001b[39mdivergence_fn,\n\u001b[0;32m     11\u001b[0m                                           bias_prior_fn\u001b[38;5;241m=\u001b[39mtfpl\u001b[38;5;241m.\u001b[39mdefault_multivariate_normal_fn,\n\u001b[0;32m     12\u001b[0m                                           bias_posterior_fn\u001b[38;5;241m=\u001b[39mtfpl\u001b[38;5;241m.\u001b[39mdefault_mean_field_normal_fn(is_singular\u001b[38;5;241m=\u001b[39m\u001b[38;5;28;01mFalse\u001b[39;00m),\n\u001b[0;32m     13\u001b[0m                                           bias_divergence_fn\u001b[38;5;241m=\u001b[39mdivergence_fn),\n\u001b[0;32m     14\u001b[0m     Conv2D(\u001b[38;5;241m32\u001b[39m, (\u001b[38;5;241m3\u001b[39m,\u001b[38;5;241m3\u001b[39m), activation\u001b[38;5;241m=\u001b[39m\u001b[38;5;124m'\u001b[39m\u001b[38;5;124mrelu\u001b[39m\u001b[38;5;124m'\u001b[39m),\n\u001b[0;32m     15\u001b[0m      MaxPooling2D(\u001b[38;5;241m2\u001b[39m,\u001b[38;5;241m2\u001b[39m),\n\u001b[0;32m     16\u001b[0m     Dropout(\u001b[38;5;241m0.4\u001b[39m),\n\u001b[0;32m     17\u001b[0m     Conv2D(\u001b[38;5;241m32\u001b[39m, (\u001b[38;5;241m3\u001b[39m,\u001b[38;5;241m3\u001b[39m), activation\u001b[38;5;241m=\u001b[39m\u001b[38;5;124m'\u001b[39m\u001b[38;5;124mrelu\u001b[39m\u001b[38;5;124m'\u001b[39m),\n\u001b[0;32m     18\u001b[0m     MaxPooling2D(\u001b[38;5;241m2\u001b[39m,\u001b[38;5;241m2\u001b[39m),\n\u001b[0;32m     19\u001b[0m     Dropout(\u001b[38;5;241m0.4\u001b[39m),\n\u001b[0;32m     20\u001b[0m     Conv2D(\u001b[38;5;241m64\u001b[39m, (\u001b[38;5;241m3\u001b[39m,\u001b[38;5;241m3\u001b[39m), activation\u001b[38;5;241m=\u001b[39m\u001b[38;5;124m'\u001b[39m\u001b[38;5;124mrelu\u001b[39m\u001b[38;5;124m'\u001b[39m),\n\u001b[0;32m     21\u001b[0m     MaxPooling2D(\u001b[38;5;241m2\u001b[39m,\u001b[38;5;241m2\u001b[39m),\n\u001b[0;32m     22\u001b[0m     Dropout(\u001b[38;5;241m0.4\u001b[39m),\n\u001b[0;32m     23\u001b[0m     Conv2D(\u001b[38;5;241m64\u001b[39m, (\u001b[38;5;241m3\u001b[39m,\u001b[38;5;241m3\u001b[39m), activation\u001b[38;5;241m=\u001b[39m\u001b[38;5;124m'\u001b[39m\u001b[38;5;124mrelu\u001b[39m\u001b[38;5;124m'\u001b[39m),\n\u001b[0;32m     24\u001b[0m     MaxPooling2D(\u001b[38;5;241m2\u001b[39m,\u001b[38;5;241m2\u001b[39m),\n\u001b[0;32m     25\u001b[0m     Dropout(\u001b[38;5;241m0.3\u001b[39m),\n\u001b[0;32m     26\u001b[0m     Conv2D(\u001b[38;5;241m64\u001b[39m, (\u001b[38;5;241m3\u001b[39m,\u001b[38;5;241m3\u001b[39m), activation\u001b[38;5;241m=\u001b[39m\u001b[38;5;124m'\u001b[39m\u001b[38;5;124mrelu\u001b[39m\u001b[38;5;124m'\u001b[39m),\n\u001b[0;32m     27\u001b[0m     MaxPooling2D(\u001b[38;5;241m2\u001b[39m,\u001b[38;5;241m2\u001b[39m),\n\u001b[0;32m     28\u001b[0m     Dropout(\u001b[38;5;241m0.3\u001b[39m),\n\u001b[0;32m     29\u001b[0m     Flatten(),\n\u001b[0;32m     30\u001b[0m     Dense(\u001b[38;5;241m512\u001b[39m, activation\u001b[38;5;241m=\u001b[39m\u001b[38;5;124m'\u001b[39m\u001b[38;5;124mrelu\u001b[39m\u001b[38;5;124m'\u001b[39m),\n\u001b[0;32m     31\u001b[0m     Dropout(\u001b[38;5;241m0.3\u001b[39m),\n\u001b[0;32m     32\u001b[0m     tfpl\u001b[38;5;241m.\u001b[39mDenseReparameterization(units\u001b[38;5;241m=\u001b[39mtfpl\u001b[38;5;241m.\u001b[39mOneHotCategorical\u001b[38;5;241m.\u001b[39mparams_size(\u001b[38;5;241m2\u001b[39m), activation\u001b[38;5;241m=\u001b[39m\u001b[38;5;28;01mNone\u001b[39;00m,\n\u001b[0;32m     33\u001b[0m                                  kernel_prior_fn\u001b[38;5;241m=\u001b[39mtfpl\u001b[38;5;241m.\u001b[39mdefault_multivariate_normal_fn,\n\u001b[0;32m     34\u001b[0m                                  kernel_posterior_fn\u001b[38;5;241m=\u001b[39mtfpl\u001b[38;5;241m.\u001b[39mdefault_mean_field_normal_fn(is_singular\u001b[38;5;241m=\u001b[39m\u001b[38;5;28;01mFalse\u001b[39;00m),\n\u001b[0;32m     35\u001b[0m                                  kernel_divergence_fn\u001b[38;5;241m=\u001b[39mdivergence_fn,\n\u001b[0;32m     36\u001b[0m                                  bias_prior_fn\u001b[38;5;241m=\u001b[39mtfpl\u001b[38;5;241m.\u001b[39mdefault_multivariate_normal_fn,\n\u001b[0;32m     37\u001b[0m                                  bias_posterior_fn\u001b[38;5;241m=\u001b[39mtfpl\u001b[38;5;241m.\u001b[39mdefault_mean_field_normal_fn(is_singular\u001b[38;5;241m=\u001b[39m\u001b[38;5;28;01mFalse\u001b[39;00m),\n\u001b[0;32m     38\u001b[0m                                  bias_divergence_fn\u001b[38;5;241m=\u001b[39mdivergence_fn\n\u001b[0;32m     39\u001b[0m                                 ),\n\u001b[0;32m     40\u001b[0m     tfpl\u001b[38;5;241m.\u001b[39mOneHotCategorical(\u001b[38;5;241m2\u001b[39m)\n\u001b[0;32m     41\u001b[0m ])\n\u001b[0;32m     45\u001b[0m model_bayes\u001b[38;5;241m.\u001b[39msummary()\n",
      "File \u001b[1;32mC:\\Users\\Public\\anaconda\\Lib\\site-packages\\tensorflow\\python\\trackable\\base.py:204\u001b[0m, in \u001b[0;36mno_automatic_dependency_tracking.<locals>._method_wrapper\u001b[1;34m(self, *args, **kwargs)\u001b[0m\n\u001b[0;32m    202\u001b[0m \u001b[38;5;28mself\u001b[39m\u001b[38;5;241m.\u001b[39m_self_setattr_tracking \u001b[38;5;241m=\u001b[39m \u001b[38;5;28;01mFalse\u001b[39;00m  \u001b[38;5;66;03m# pylint: disable=protected-access\u001b[39;00m\n\u001b[0;32m    203\u001b[0m \u001b[38;5;28;01mtry\u001b[39;00m:\n\u001b[1;32m--> 204\u001b[0m   result \u001b[38;5;241m=\u001b[39m method(\u001b[38;5;28mself\u001b[39m, \u001b[38;5;241m*\u001b[39margs, \u001b[38;5;241m*\u001b[39m\u001b[38;5;241m*\u001b[39mkwargs)\n\u001b[0;32m    205\u001b[0m \u001b[38;5;28;01mfinally\u001b[39;00m:\n\u001b[0;32m    206\u001b[0m   \u001b[38;5;28mself\u001b[39m\u001b[38;5;241m.\u001b[39m_self_setattr_tracking \u001b[38;5;241m=\u001b[39m previous_value  \u001b[38;5;66;03m# pylint: disable=protected-access\u001b[39;00m\n",
      "File \u001b[1;32mC:\\Users\\Public\\anaconda\\Lib\\site-packages\\keras\\src\\utils\\traceback_utils.py:70\u001b[0m, in \u001b[0;36mfilter_traceback.<locals>.error_handler\u001b[1;34m(*args, **kwargs)\u001b[0m\n\u001b[0;32m     67\u001b[0m     filtered_tb \u001b[38;5;241m=\u001b[39m _process_traceback_frames(e\u001b[38;5;241m.\u001b[39m__traceback__)\n\u001b[0;32m     68\u001b[0m     \u001b[38;5;66;03m# To get the full stack trace, call:\u001b[39;00m\n\u001b[0;32m     69\u001b[0m     \u001b[38;5;66;03m# `tf.debugging.disable_traceback_filtering()`\u001b[39;00m\n\u001b[1;32m---> 70\u001b[0m     \u001b[38;5;28;01mraise\u001b[39;00m e\u001b[38;5;241m.\u001b[39mwith_traceback(filtered_tb) \u001b[38;5;28;01mfrom\u001b[39;00m \u001b[38;5;28;01mNone\u001b[39;00m\n\u001b[0;32m     71\u001b[0m \u001b[38;5;28;01mfinally\u001b[39;00m:\n\u001b[0;32m     72\u001b[0m     \u001b[38;5;28;01mdel\u001b[39;00m filtered_tb\n",
      "File \u001b[1;32mC:\\Users\\Public\\anaconda\\Lib\\site-packages\\tensorflow_probability\\python\\layers\\conv_variational.py:231\u001b[0m, in \u001b[0;36m_ConvVariational.call\u001b[1;34m(self, inputs)\u001b[0m\n\u001b[0;32m    229\u001b[0m \u001b[38;5;28;01mif\u001b[39;00m \u001b[38;5;28mself\u001b[39m\u001b[38;5;241m.\u001b[39mactivation \u001b[38;5;129;01mis\u001b[39;00m \u001b[38;5;129;01mnot\u001b[39;00m \u001b[38;5;28;01mNone\u001b[39;00m:\n\u001b[0;32m    230\u001b[0m   outputs \u001b[38;5;241m=\u001b[39m \u001b[38;5;28mself\u001b[39m\u001b[38;5;241m.\u001b[39mactivation(outputs)\n\u001b[1;32m--> 231\u001b[0m \u001b[38;5;28mself\u001b[39m\u001b[38;5;241m.\u001b[39m_apply_divergence(\u001b[38;5;28mself\u001b[39m\u001b[38;5;241m.\u001b[39mkernel_divergence_fn,\n\u001b[0;32m    232\u001b[0m                        \u001b[38;5;28mself\u001b[39m\u001b[38;5;241m.\u001b[39mkernel_posterior,\n\u001b[0;32m    233\u001b[0m                        \u001b[38;5;28mself\u001b[39m\u001b[38;5;241m.\u001b[39mkernel_prior,\n\u001b[0;32m    234\u001b[0m                        \u001b[38;5;28mself\u001b[39m\u001b[38;5;241m.\u001b[39mkernel_posterior_tensor,\n\u001b[0;32m    235\u001b[0m                        name\u001b[38;5;241m=\u001b[39m\u001b[38;5;124m'\u001b[39m\u001b[38;5;124mdivergence_kernel\u001b[39m\u001b[38;5;124m'\u001b[39m)\n\u001b[0;32m    236\u001b[0m \u001b[38;5;28mself\u001b[39m\u001b[38;5;241m.\u001b[39m_apply_divergence(\u001b[38;5;28mself\u001b[39m\u001b[38;5;241m.\u001b[39mbias_divergence_fn,\n\u001b[0;32m    237\u001b[0m                        \u001b[38;5;28mself\u001b[39m\u001b[38;5;241m.\u001b[39mbias_posterior,\n\u001b[0;32m    238\u001b[0m                        \u001b[38;5;28mself\u001b[39m\u001b[38;5;241m.\u001b[39mbias_prior,\n\u001b[0;32m    239\u001b[0m                        \u001b[38;5;28mself\u001b[39m\u001b[38;5;241m.\u001b[39mbias_posterior_tensor,\n\u001b[0;32m    240\u001b[0m                        name\u001b[38;5;241m=\u001b[39m\u001b[38;5;124m'\u001b[39m\u001b[38;5;124mdivergence_bias\u001b[39m\u001b[38;5;124m'\u001b[39m)\n\u001b[0;32m    241\u001b[0m \u001b[38;5;28;01mreturn\u001b[39;00m outputs\n",
      "File \u001b[1;32mC:\\Users\\Public\\anaconda\\Lib\\site-packages\\tensorflow_probability\\python\\layers\\conv_variational.py:403\u001b[0m, in \u001b[0;36m_ConvVariational._apply_divergence\u001b[1;34m(self, divergence_fn, posterior, prior, posterior_tensor, name)\u001b[0m\n\u001b[0;32m    400\u001b[0m   divergence \u001b[38;5;241m=\u001b[39m \u001b[38;5;28;01mNone\u001b[39;00m\n\u001b[0;32m    401\u001b[0m   \u001b[38;5;28;01mreturn\u001b[39;00m\n\u001b[0;32m    402\u001b[0m divergence \u001b[38;5;241m=\u001b[39m tf\u001b[38;5;241m.\u001b[39midentity(\n\u001b[1;32m--> 403\u001b[0m     divergence_fn(posterior, prior, posterior_tensor),\n\u001b[0;32m    404\u001b[0m     name\u001b[38;5;241m=\u001b[39mname)\n\u001b[0;32m    405\u001b[0m \u001b[38;5;28mself\u001b[39m\u001b[38;5;241m.\u001b[39madd_loss(divergence)\n",
      "Cell \u001b[1;32mIn[5], line 2\u001b[0m, in \u001b[0;36m<lambda>\u001b[1;34m(q, p, _)\u001b[0m\n\u001b[0;32m      1\u001b[0m \u001b[38;5;66;03m# Divergence function for Bayesian layers\u001b[39;00m\n\u001b[1;32m----> 2\u001b[0m divergence_fn \u001b[38;5;241m=\u001b[39m \u001b[38;5;28;01mlambda\u001b[39;00m q, p, _: tfd\u001b[38;5;241m.\u001b[39mkl_divergence(q, p) \u001b[38;5;241m/\u001b[39m num_train_images\n\u001b[0;32m      4\u001b[0m \u001b[38;5;66;03m# Build the Bayesian CNN model\u001b[39;00m\n\u001b[0;32m      5\u001b[0m model_bayes \u001b[38;5;241m=\u001b[39m Sequential([\n\u001b[0;32m      6\u001b[0m     tfpl\u001b[38;5;241m.\u001b[39mConvolution2DReparameterization(input_shape\u001b[38;5;241m=\u001b[39m(\u001b[38;5;241m255\u001b[39m,\u001b[38;5;241m255\u001b[39m, \u001b[38;5;241m3\u001b[39m),\n\u001b[0;32m      7\u001b[0m                                           filters\u001b[38;5;241m=\u001b[39m\u001b[38;5;241m8\u001b[39m, kernel_size\u001b[38;5;241m=\u001b[39m\u001b[38;5;241m16\u001b[39m, activation\u001b[38;5;241m=\u001b[39m\u001b[38;5;124m'\u001b[39m\u001b[38;5;124mrelu\u001b[39m\u001b[38;5;124m'\u001b[39m,\n\u001b[1;32m   (...)\u001b[0m\n\u001b[0;32m     40\u001b[0m     tfpl\u001b[38;5;241m.\u001b[39mOneHotCategorical(\u001b[38;5;241m2\u001b[39m)\n\u001b[0;32m     41\u001b[0m ])\n",
      "\u001b[1;31mNameError\u001b[0m: Exception encountered when calling layer \"conv2d_reparameterization\" (type Conv2DReparameterization).\n\nname 'num_train_images' is not defined\n\nCall arguments received by layer \"conv2d_reparameterization\" (type Conv2DReparameterization):\n  • inputs=tf.Tensor(shape=(None, 255, 255, 3), dtype=float32)"
     ]
    }
   ],
   "source": [
    "# Divergence function for Bayesian layers\n",
    "divergence_fn = lambda q, p, _: tfd.kl_divergence(q, p) / num_train_images\n",
    "\n",
    "# Build the Bayesian CNN model\n",
    "model_bayes = Sequential([\n",
    "    tfpl.Convolution2DReparameterization(input_shape=(255,255, 3),\n",
    "                                          filters=8, kernel_size=16, activation='relu',\n",
    "                                          kernel_prior_fn=tfpl.default_multivariate_normal_fn,\n",
    "                                          kernel_posterior_fn=tfpl.default_mean_field_normal_fn(is_singular=False),\n",
    "                                          kernel_divergence_fn=divergence_fn,\n",
    "                                          bias_prior_fn=tfpl.default_multivariate_normal_fn,\n",
    "                                          bias_posterior_fn=tfpl.default_mean_field_normal_fn(is_singular=False),\n",
    "                                          bias_divergence_fn=divergence_fn),\n",
    "    Conv2D(32, (3,3), activation='relu'),\n",
    "     MaxPooling2D(2,2),\n",
    "    Dropout(0.4),\n",
    "    Conv2D(32, (3,3), activation='relu'),\n",
    "    MaxPooling2D(2,2),\n",
    "    Dropout(0.4),\n",
    "    Conv2D(64, (3,3), activation='relu'),\n",
    "    MaxPooling2D(2,2),\n",
    "    Dropout(0.4),\n",
    "    Conv2D(64, (3,3), activation='relu'),\n",
    "    MaxPooling2D(2,2),\n",
    "    Dropout(0.3),\n",
    "    Conv2D(64, (3,3), activation='relu'),\n",
    "    MaxPooling2D(2,2),\n",
    "    Dropout(0.3),\n",
    "    Flatten(),\n",
    "    Dense(512, activation='relu'),\n",
    "    Dropout(0.3),\n",
    "    tfpl.DenseReparameterization(units=tfpl.OneHotCategorical.params_size(2), activation=None,\n",
    "                                 kernel_prior_fn=tfpl.default_multivariate_normal_fn,\n",
    "                                 kernel_posterior_fn=tfpl.default_mean_field_normal_fn(is_singular=False),\n",
    "                                 kernel_divergence_fn=divergence_fn,\n",
    "                                 bias_prior_fn=tfpl.default_multivariate_normal_fn,\n",
    "                                 bias_posterior_fn=tfpl.default_mean_field_normal_fn(is_singular=False),\n",
    "                                 bias_divergence_fn=divergence_fn\n",
    "                                ),\n",
    "    tfpl.OneHotCategorical(2)\n",
    "])\n",
    "\n",
    "\n",
    "\n",
    "model_bayes.summary()\n",
    "\n"
   ]
  },
  {
   "cell_type": "code",
   "execution_count": 6,
   "metadata": {},
   "outputs": [
    {
     "ename": "NameError",
     "evalue": "name 'model_bayes' is not defined",
     "output_type": "error",
     "traceback": [
      "\u001b[1;31m---------------------------------------------------------------------------\u001b[0m",
      "\u001b[1;31mNameError\u001b[0m                                 Traceback (most recent call last)",
      "Cell \u001b[1;32mIn[6], line 19\u001b[0m\n\u001b[0;32m     16\u001b[0m reduce_lr \u001b[38;5;241m=\u001b[39m ReduceLROnPlateau(monitor\u001b[38;5;241m=\u001b[39m\u001b[38;5;124m'\u001b[39m\u001b[38;5;124mval_loss\u001b[39m\u001b[38;5;124m'\u001b[39m, factor\u001b[38;5;241m=\u001b[39m\u001b[38;5;241m0.2\u001b[39m, patience\u001b[38;5;241m=\u001b[39m\u001b[38;5;241m5\u001b[39m, min_lr\u001b[38;5;241m=\u001b[39m\u001b[38;5;241m1e-6\u001b[39m)\n\u001b[0;32m     17\u001b[0m \u001b[38;5;66;03m# early_stopping = EarlyStopping(monitor='val_loss', patience=10)\u001b[39;00m\n\u001b[1;32m---> 19\u001b[0m model_bayes\u001b[38;5;241m.\u001b[39mcompile(optimizer\u001b[38;5;241m=\u001b[39mtf\u001b[38;5;241m.\u001b[39mkeras\u001b[38;5;241m.\u001b[39moptimizers\u001b[38;5;241m.\u001b[39mAdam(learning_rate\u001b[38;5;241m=\u001b[39m\u001b[38;5;241m0.0025\u001b[39m),\n\u001b[0;32m     20\u001b[0m                     loss\u001b[38;5;241m=\u001b[39mnegative_log_likelihood,\n\u001b[0;32m     21\u001b[0m                     metrics\u001b[38;5;241m=\u001b[39m[\u001b[38;5;124m'\u001b[39m\u001b[38;5;124maccuracy\u001b[39m\u001b[38;5;124m'\u001b[39m])\n\u001b[0;32m     23\u001b[0m epochs \u001b[38;5;241m=\u001b[39m \u001b[38;5;241m15\u001b[39m  \n\u001b[0;32m     25\u001b[0m history \u001b[38;5;241m=\u001b[39m model_bayes\u001b[38;5;241m.\u001b[39mfit(\n\u001b[0;32m     26\u001b[0m     train_generator,\n\u001b[0;32m     27\u001b[0m     epochs\u001b[38;5;241m=\u001b[39mepochs,\n\u001b[1;32m   (...)\u001b[0m\n\u001b[0;32m     31\u001b[0m     verbose\u001b[38;5;241m=\u001b[39m\u001b[38;5;241m1\u001b[39m\n\u001b[0;32m     32\u001b[0m )\n",
      "\u001b[1;31mNameError\u001b[0m: name 'model_bayes' is not defined"
     ]
    }
   ],
   "source": [
    "# Define a custom negative log likelihood loss function\n",
    "def negative_log_likelihood(y_true, y_pred):\n",
    "    # Extract the parameters of the predicted distribution\n",
    "    y_true = tf.cast(y_true, tf.float32)\n",
    "\n",
    "    return -y_pred.log_prob(y_true)\n",
    "\n",
    "    # Calculate the negative log likelihood of the true labels\n",
    "    neg_log_likelihood = -tf.reduce_sum(y_true * logits - tf.math.log(tf.reduce_sum(tf.exp(logits), axis=-1)), axis=-1)\n",
    "\n",
    "    return tf.reduce_mean(neg_log_likelihood)\n",
    "\n",
    "# Compile the model\n",
    "from keras.callbacks import ReduceLROnPlateau, EarlyStopping\n",
    "\n",
    "reduce_lr = ReduceLROnPlateau(monitor='val_loss', factor=0.2, patience=5, min_lr=1e-6)\n",
    "# early_stopping = EarlyStopping(monitor='val_loss', patience=10)\n",
    "\n",
    "model_bayes.compile(optimizer=tf.keras.optimizers.Adam(learning_rate=0.0025),\n",
    "                    loss=negative_log_likelihood,\n",
    "                    metrics=['accuracy'])\n",
    "\n",
    "epochs = 15  \n",
    "\n",
    "history = model_bayes.fit(\n",
    "    train_generator,\n",
    "    epochs=epochs,\n",
    "    validation_data=validation_generator,\n",
    "    validation_steps=num_validation_images // batch_size,\n",
    "    callbacks=[reduce_lr],\n",
    "    verbose=1\n",
    ")\n",
    "\n",
    "# Evaluate the model on the validation set\n",
    "val_loss, val_accuracy = model_bayes.evaluate(validation_generator, verbose=1)\n",
    "print(f\"Validation Loss: {val_loss:.4f}\")\n",
    "print(f\"Validation Accuracy: {val_accuracy:.4f}\")\n"
   ]
  },
  {
   "cell_type": "code",
   "execution_count": null,
   "metadata": {
    "id": "k3HDqY6L7tB6"
   },
   "outputs": [],
   "source": [
    "import matplotlib.pyplot as plt\n",
    "\n",
    "plt.figure(figsize=(14, 5))\n",
    "\n",
    "# Plot training & validation accuracy values\n",
    "plt.subplot(1, 2, 1)\n",
    "plt.plot(history.history['accuracy'])\n",
    "plt.plot(history.history['val_accuracy'])\n",
    "plt.title('Model accuracy')\n",
    "plt.ylabel('Accuracy')\n",
    "plt.xlabel('Epoch')\n",
    "plt.legend(['Train', 'Validation'], loc='upper left')\n",
    "\n",
    "# Plot training & validation loss values\n",
    "plt.subplot(1, 2, 2)\n",
    "plt.plot(history.history['loss'])\n",
    "plt.plot(history.history['val_loss'])\n",
    "plt.title('Model loss')\n",
    "plt.ylabel('Loss')\n",
    "plt.xlabel('Epoch')\n",
    "plt.legend(['Train', 'Validation'], loc='upper left')\n",
    "\n",
    "plt.show()"
   ]
  },
  {
   "cell_type": "code",
   "execution_count": null,
   "metadata": {
    "id": "h0mvfl7v75qc"
   },
   "outputs": [],
   "source": [
    "import numpy as np\n",
    "import matplotlib.pyplot as plt\n",
    "import  cv2\n",
    "\n",
    "# 1. Probability Plot for a Given Image\n",
    "\n",
    "def plot_image_probabilities(model, image_path):\n",
    "    # Load and preprocess the image\n",
    "    img_height, img_width = 255, 255  # Define the target size\n",
    "\n",
    "    img = tf.keras.preprocessing.image.load_img(image_path, target_size=(img_height, img_width))\n",
    "\n",
    "    img_array = tf.keras.preprocessing.image.img_to_array(img)\n",
    "    img_array = img_array / 255.0\n",
    "    img_array = np.expand_dims(img_array, axis=0)\n",
    "\n",
    "    # Predict the image\n",
    "    predictions = model(img_array)\n",
    "\n",
    "    # Extract probabilities\n",
    "    probs = predictions.mean().numpy()[0]\n",
    "\n",
    "    # Plot\n",
    "    plt.figure(figsize=(8, 4))\n",
    "    plt.bar([0, 1], probs, color=['blue', 'red'])\n",
    "    plt.xticks([0, 1], ['Not Infected', 'Infected'])\n",
    "    plt.ylabel('Probability')\n",
    "    plt.title('Prediction Probabilities')\n",
    "    plt.show()\n",
    "\n",
    "# Testing with an image\n",
    "image_path = './Image_1.jpg'  \n",
    "plot_image_probabilities(model_bayes, image_path)\n",
    "\n",
    "image_path = './Image_2.jpg'  \n",
    "plot_image_probabilities(model_bayes, image_path)\n",
    "\n",
    "image_path = './Image_3.jpg'  \n",
    "plot_image_probabilities(model_bayes, image_path)"
   ]
  },
  {
   "cell_type": "code",
   "execution_count": null,
   "metadata": {},
   "outputs": [],
   "source": [
    "import numpy as np\n",
    "import matplotlib.pyplot as plt\n",
    "import  cv2\n",
    "\n",
    "# 1. Probability Plot for a Given Image\n",
    "\n",
    "def plot_image_probabilities(model, image_path):\n",
    "    # Load and preprocess the image\n",
    "    img_height, img_width = 255, 255  # Define the target size\n",
    "\n",
    "    img = tf.keras.preprocessing.image.load_img(image_path, target_size=(img_height, img_width))\n",
    "\n",
    "    img_array = tf.keras.preprocessing.image.img_to_array(img)\n",
    "    img_array = img_array / 255.0\n",
    "    img_array = np.expand_dims(img_array, axis=0)\n",
    "\n",
    "    # Predict the image\n",
    "    predictions = model(img_array)\n",
    "\n",
    "    # Extract probabilities\n",
    "    probs = predictions.mean().numpy()[0]\n",
    "\n",
    "    # Plot\n",
    "    plt.figure(figsize=(8, 4))\n",
    "    plt.bar([0, 1], probs, color=['pink', 'grey'])\n",
    "    plt.xticks([0, 1], ['Normal', 'Infected'])\n",
    "    plt.ylabel('Probability')\n",
    "    plt.title('Prediction Probabilities')\n",
    "    plt.show()\n",
    "\n",
    "# Testing with an image\n",
    "image_path = 'real_time_pre/normal_4.jpg'  \n",
    "plot_image_probabilities(model_bayes, image_path)\n",
    "\n",
    "#image_path = './Image_2.jpg'  \n",
    "#plot_image_probabilities(model_bayes, image_path)\n",
    "\n",
    "#image_path = './Image_3.jpg'  \n",
    "#plot_image_probabilities(model_bayes, image_path)"
   ]
  },
  {
   "cell_type": "code",
   "execution_count": null,
   "metadata": {},
   "outputs": [],
   "source": []
  }
 ],
 "metadata": {
  "colab": {
   "provenance": []
  },
  "kernelspec": {
   "display_name": "Python 3 (ipykernel)",
   "language": "python",
   "name": "python3"
  },
  "language_info": {
   "codemirror_mode": {
    "name": "ipython",
    "version": 3
   },
   "file_extension": ".py",
   "mimetype": "text/x-python",
   "name": "python",
   "nbconvert_exporter": "python",
   "pygments_lexer": "ipython3",
   "version": "3.11.4"
  }
 },
 "nbformat": 4,
 "nbformat_minor": 1
}
