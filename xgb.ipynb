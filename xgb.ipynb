{
 "cells": [
  {
   "cell_type": "code",
   "execution_count": 24,
   "metadata": {},
   "outputs": [],
   "source": [
    "import os\n",
    "import numpy as np\n",
    "from PIL import Image\n",
    "from sklearn.model_selection import train_test_split\n",
    "from sklearn.metrics import accuracy_score, roc_auc_score, classification_report, confusion_matrix\n",
    "import xgboost as xgb\n",
    "import seaborn as sns\n",
    "import matplotlib.pyplot as plt"
   ]
  },
  {
   "cell_type": "code",
   "execution_count": 17,
   "metadata": {},
   "outputs": [
    {
     "name": "stdout",
     "output_type": "stream",
     "text": [
      "infected\n",
      "normal\n"
     ]
    }
   ],
   "source": [
    "# Function to load images and labels\n",
    "def load_images_from_folders(folders):\n",
    "    images = []\n",
    "    labels = []\n",
    "    for folder in folders:\n",
    "        label = os.path.basename(folder)\n",
    "        print(label)\n",
    "        for filename in os.listdir(folder):\n",
    "            img_path = os.path.join(folder, filename)\n",
    "            try:\n",
    "                with Image.open(img_path) as img:\n",
    "                    img = img.resize((224, 224))\n",
    "                    images.append(np.array(img))\n",
    "                    labels.append(label)\n",
    "            except IOError:\n",
    "                pass\n",
    "    return np.array(images), np.array(labels)\n",
    "\n",
    "# Preprocess and split data\n",
    "folders = ['PCOS_form/infected', 'PCOS_form/normal']\n",
    "X, y = load_images_from_folders(folders)\n",
    "X = X.reshape(X.shape[0], -1)  # Flatten images\n",
    "label_map = {'normal': 0, 'infected': 1}  # Assign a default value for empty string label\n",
    "y = np.array([label_map.get(label, -1) for label in y])  # Convert labels to binary\n"
   ]
  },
  {
   "cell_type": "code",
   "execution_count": 18,
   "metadata": {},
   "outputs": [
    {
     "name": "stdout",
     "output_type": "stream",
     "text": [
      "(14943, 150528) [1 1 1 ... 0 0 0]\n"
     ]
    }
   ],
   "source": [
    "print(X.shape, y)"
   ]
  },
  {
   "cell_type": "code",
   "execution_count": 19,
   "metadata": {},
   "outputs": [],
   "source": [
    "# Splitting data\n",
    "X_train, X_temp, y_train, y_temp = train_test_split(X, y, test_size=0.3, random_state=42)\n",
    "X_val, X_test, y_val, y_test = train_test_split(X_temp, y_temp, test_size=0.5, random_state=42)\n",
    "\n"
   ]
  },
  {
   "cell_type": "code",
   "execution_count": 20,
   "metadata": {},
   "outputs": [
    {
     "name": "stdout",
     "output_type": "stream",
     "text": [
      "Validation Accuracy: 0.999553770638108\n",
      "Validation ROC AUC: 0.9995499549954996\n",
      "Test Accuracy: 0.9973238180196253\n",
      "Test ROC AUC: 0.9973517830292831\n"
     ]
    }
   ],
   "source": [
    "# XGBoost classifier\n",
    "model = xgb.XGBClassifier(use_label_encoder=False, objective='binary:logistic', eval_metric='logloss')\n",
    "model.fit(X_train, y_train)\n",
    "\n",
    "# Validation\n",
    "y_val_pred = model.predict(X_val)\n",
    "val_accuracy = accuracy_score(y_val, y_val_pred)\n",
    "val_roc_auc = roc_auc_score(y_val, y_val_pred)\n",
    "print(\"Validation Accuracy:\", val_accuracy)\n",
    "print(\"Validation ROC AUC:\", val_roc_auc)\n",
    "\n",
    "# Testing\n",
    "y_test_pred = model.predict(X_test)\n",
    "test_accuracy = accuracy_score(y_test, y_test_pred)\n",
    "test_roc_auc = roc_auc_score(y_test, y_test_pred)\n",
    "print(\"Test Accuracy:\", test_accuracy)\n",
    "print(\"Test ROC AUC:\", test_roc_auc)\n",
    "\n"
   ]
  },
  {
   "cell_type": "code",
   "execution_count": 25,
   "metadata": {},
   "outputs": [
    {
     "name": "stdout",
     "output_type": "stream",
     "text": [
      "Classification Report:\n",
      "               precision    recall  f1-score   support\n",
      "\n",
      "           0       1.00      1.00      1.00      1103\n",
      "           1       1.00      1.00      1.00      1139\n",
      "\n",
      "    accuracy                           1.00      2242\n",
      "   macro avg       1.00      1.00      1.00      2242\n",
      "weighted avg       1.00      1.00      1.00      2242\n",
      "\n",
      "Confusion Matrix:\n",
      "\n"
     ]
    },
    {
     "data": {
      "image/png": "[encoded data removed]",
      "text/plain": [
       "<Figure size 1000x700 with 2 Axes>"
      ]
     },
     "metadata": {},
     "output_type": "display_data"
    }
   ],
   "source": [
    "\n",
    "\n",
    "# Classification Report and Confusion Matrix\n",
    "print(\"Classification Report:\\n\", classification_report(y_test, y_test_pred))\n",
    "print(\"Confusion Matrix:\\n\")\n",
    "cm = confusion_matrix(y_test, y_test_pred)\n",
    "plt.figure(figsize=(10, 7))\n",
    "sns.heatmap(cm, annot=True, fmt='g', cmap='Blues', xticklabels=['Normal', 'Infected'], yticklabels=['Normal', 'Infected'])\n",
    "plt.xlabel('Predicted')\n",
    "plt.ylabel('Actual')\n",
    "plt.show()"
   ]
  },
  {
   "cell_type": "code",
   "execution_count": 26,
   "metadata": {},
   "outputs": [],
   "source": [
    "def preprocess_image(image_path):\n",
    "    with Image.open(image_path) as img:\n",
    "        img = img.resize((224, 224))\n",
    "        img_array = np.array(img)\n",
    "        img_array = img_array.flatten()  # Flatten the image\n",
    "        img_array = img_array.reshape(1, -1)  # Reshape for model input\n",
    "    return img_array"
   ]
  },
  {
   "cell_type": "code",
   "execution_count": 41,
   "metadata": {},
   "outputs": [
    {
     "name": "stdout",
     "output_type": "stream",
     "text": [
      "Probability Distribution:\n",
      "Normal: 0.000025, Infected: 0.999975\n"
     ]
    }
   ],
   "source": [
    "image_path = 'Image_1.jpg'\n",
    "img = preprocess_image(image_path)\n",
    "prob = model.predict_proba(img)[0]\n",
    "# Displaying probabilities\n",
    "print(\"Probability Distribution:\")\n",
    "print(\"Normal: {:.6f}, Infected: {:.6f}\".format(prob[0], prob[1]))\n"
   ]
  },
  {
   "cell_type": "code",
   "execution_count": 42,
   "metadata": {},
   "outputs": [
    {
     "name": "stdout",
     "output_type": "stream",
     "text": [
      "Probability Distribution:\n",
      "Normal: 0.000002, Infected: 0.999998\n"
     ]
    }
   ],
   "source": [
    "image_path = 'Image_2.jpg'\n",
    "img = preprocess_image(image_path)\n",
    "prob = model.predict_proba(img)[0]\n",
    "# Displaying probabilities\n",
    "print(\"Probability Distribution:\")\n",
    "print(\"Normal: {:.6f}, Infected: {:.6f}\".format(prob[0], prob[1]))"
   ]
  },
  {
   "cell_type": "code",
   "execution_count": 43,
   "metadata": {},
   "outputs": [
    {
     "name": "stdout",
     "output_type": "stream",
     "text": [
      "Probability Distribution:\n",
      "Normal: 0.000005, Infected: 0.999995\n"
     ]
    }
   ],
   "source": [
    "image_path = 'Image_3.jpg'\n",
    "img = preprocess_image(image_path)\n",
    "prob = model.predict_proba(img)[0]\n",
    "# Displaying probabilities\n",
    "print(\"Probability Distribution:\")\n",
    "print(\"Normal: {:.6f}, Infected: {:.6f}\".format(prob[0], prob[1]))"
   ]
  },
  {
   "cell_type": "code",
   "execution_count": 44,
   "metadata": {},
   "outputs": [
    {
     "name": "stdout",
     "output_type": "stream",
     "text": [
      "Probability Distribution:\n",
      "Normal: 0.999970, Infected: 0.000030\n"
     ]
    }
   ],
   "source": [
    "image_path = 'C:/Vijay/BayesianCNN/PCOS_form/normal/8.jpg'\n",
    "img = preprocess_image(image_path)\n",
    "prob = model.predict_proba(img)[0]\n",
    "# Displaying probabilities\n",
    "print(\"Probability Distribution:\")\n",
    "print(\"Normal: {:.6f}, Infected: {:.6f}\".format(prob[0], prob[1]))"
   ]
  },
  {
   "cell_type": "code",
   "execution_count": 46,
   "metadata": {},
   "outputs": [],
   "source": [
    "import pickle\n",
    "\n",
    "# Assuming 'model' is your trained XGBoost model\n",
    "filename = 'trained_xgboost_model.pkl'\n",
    "with open(filename, 'wb') as file:\n",
    "    pickle.dump(model, file)"
   ]
  },
  {
   "cell_type": "code",
   "execution_count": 47,
   "metadata": {},
   "outputs": [],
   "source": [
    "import pickle\n",
    "\n",
    "# Load the model from the file\n",
    "filename = 'trained_xgboost_model.pkl'\n",
    "with open(filename, 'rb') as file:\n",
    "    loaded_model = pickle.load(file)"
   ]
  },
  {
   "cell_type": "code",
   "execution_count": 48,
   "metadata": {},
   "outputs": [
    {
     "name": "stdout",
     "output_type": "stream",
     "text": [
      "Probability Distribution:\n",
      "Normal: 0.999941, Infected: 0.000059\n"
     ]
    }
   ],
   "source": [
    "image_path = 'C:/Vijay/BayesianCNN/PCOS_form/normal/55.jpg'\n",
    "img = preprocess_image(image_path)\n",
    "prob = loaded_model.predict_proba(img)[0]\n",
    "# Displaying probabilities\n",
    "print(\"Probability Distribution:\")\n",
    "print(\"Normal: {:.6f}, Infected: {:.6f}\".format(prob[0], prob[1]))"
   ]
  },
  {
   "cell_type": "code",
   "execution_count": null,
   "metadata": {},
   "outputs": [],
   "source": []
  }
 ],
 "metadata": {
  "kernelspec": {
   "display_name": "Python 3",
   "language": "python",
   "name": "python3"
  },
  "language_info": {
   "codemirror_mode": {
    "name": "ipython",
    "version": 3
   },
   "file_extension": ".py",
   "mimetype": "text/x-python",
   "name": "python",
   "nbconvert_exporter": "python",
   "pygments_lexer": "ipython3",
   "version": "3.10.12"
  }
 },
 "nbformat": 4,
 "nbformat_minor": 2
}
